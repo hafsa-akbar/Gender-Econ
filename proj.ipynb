{
 "cells": [
  {
   "cell_type": "code",
   "execution_count": 32,
   "metadata": {},
   "outputs": [],
   "source": [
    "import pandas as pd\n",
    "import os"
   ]
  },
  {
   "cell_type": "code",
   "execution_count": 53,
   "metadata": {},
   "outputs": [],
   "source": [
    "pd.options.display.float_format = '{:.0f}'.format\n",
    "\n",
    "def label_read(file):\n",
    "    reader = pd.read_stata(file, iterator=True)\n",
    "    variable_labels = reader.variable_labels()\n",
    "    non_null_labels = {var: label for var, label in variable_labels.items() if label is not None and label.strip()}\n",
    "    for var, label in non_null_labels.items():\n",
    "        print(f\"{var}: {label}\")"
   ]
  },
  {
   "cell_type": "code",
   "execution_count": null,
   "metadata": {},
   "outputs": [
    {
     "name": "stdout",
     "output_type": "stream",
     "text": [
      "hid: household identifier\n",
      "round: RHPS round indicator\n",
      "s6p4_qa: Has anyone in the household who is aged 11 years or older temporary migrated out\n",
      "r_pid: Roster Pid\n",
      "s6p4_q2: Sex\n",
      "s6p4_q3: Where Did [Name] Migrate?\n",
      "s6p4_q4: Was The Village/City In Different District Or Country?\n",
      "s6p4_q5_dc: Write Down Code Of District (And Country If Not Pakistan)\n",
      "s6p4_q5_cc: Write Down Code Of Country (And Country If Not Pakistan)\n",
      "s6p4_q6m14: Months During Which [Name] Was Gone March 2014\n",
      "s6p4_q6f14: Months During Which [Name] Was Gone February 2014\n",
      "s6p4_q6j14: Months During Which [Name] Was Gone January 2014\n",
      "s6p4_q6d13: Months During Which [Name] Was Gone December 2013\n",
      "s6p4_q6n13: Months During Which [Name] Was Gone November 2013\n",
      "s6p4_q6o13: Months During Which [Name] Was Gone October 2013\n",
      "s6p4_q6s13: Months During Which [Name] Was Gone September 2013\n",
      "s6p4_q6ag13: Months During Which [Name] Was Gone August 2013\n",
      "s6p4_q6jul13: Months During Which [Name] Was Gone July 2013\n",
      "s6p4_q6jun13: Months During Which [Name] Was Gone June 2013\n",
      "s6p4_q6m13: Months During Which [Name] Was Gone May 2013\n",
      "s6p4_q6ap13: Months During Which [Name] Was Gone April 2013\n",
      "s6p4_q7: Why Did [Name] Migrate?\n",
      "s6p4_q8: What Place Did [Name] Look For Job?\n"
     ]
    }
   ],
   "source": [
    "folder = 'PRPS 2014'\n",
    "def f(file):\n",
    "    return os.path.join(folder, file)\n",
    "\n",
    "label_read(f('095_s6p4_m.dta'))"
   ]
  },
  {
   "cell_type": "code",
   "execution_count": 49,
   "metadata": {},
   "outputs": [],
   "source": [
    "columns_to_read = ['hid', 'r_pid', 's6p4_q3', 's6p4_q4', 's6p4_q7']\n",
    "new_column_names = {\n",
    "    's6p4_q3': 'migrate_to',\n",
    "    's6p4_q4': 'is_diff_district',\n",
    "    'rq3_age_year': 'age_year',\n",
    "    's6p4_q7': 'migration_reason',\n",
    "}\n",
    "\n",
    "migration_male = pd.read_stata(f('095_s6p4_m.dta'), columns=columns_to_read)\n",
    "migration_male = migration_male.rename(columns=new_column_names)"
   ]
  },
  {
   "cell_type": "code",
   "execution_count": 50,
   "metadata": {},
   "outputs": [
    {
     "data": {
      "text/plain": [
       "True"
      ]
     },
     "execution_count": 50,
     "metadata": {},
     "output_type": "execute_result"
    }
   ],
   "source": [
    "is_unique = not migration_male.duplicated(subset=['hid', 'r_pid']).any()\n",
    "is_unique"
   ]
  },
  {
   "cell_type": "code",
   "execution_count": 51,
   "metadata": {},
   "outputs": [
    {
     "data": {
      "text/html": [
       "<div>\n",
       "<style scoped>\n",
       "    .dataframe tbody tr th:only-of-type {\n",
       "        vertical-align: middle;\n",
       "    }\n",
       "\n",
       "    .dataframe tbody tr th {\n",
       "        vertical-align: top;\n",
       "    }\n",
       "\n",
       "    .dataframe thead th {\n",
       "        text-align: right;\n",
       "    }\n",
       "</style>\n",
       "<table border=\"1\" class=\"dataframe\">\n",
       "  <thead>\n",
       "    <tr style=\"text-align: right;\">\n",
       "      <th></th>\n",
       "      <th>hid</th>\n",
       "      <th>r_pid</th>\n",
       "      <th>migrate_to</th>\n",
       "      <th>is_diff_district</th>\n",
       "      <th>migration_reason</th>\n",
       "    </tr>\n",
       "  </thead>\n",
       "  <tbody>\n",
       "    <tr>\n",
       "      <th>0</th>\n",
       "      <td>10101010105</td>\n",
       "      <td>1</td>\n",
       "      <td>Rural Area</td>\n",
       "      <td>No</td>\n",
       "      <td>Employment</td>\n",
       "    </tr>\n",
       "    <tr>\n",
       "      <th>1</th>\n",
       "      <td>10101010105</td>\n",
       "      <td>2</td>\n",
       "      <td>Rural Area</td>\n",
       "      <td>No</td>\n",
       "      <td>Employment</td>\n",
       "    </tr>\n",
       "    <tr>\n",
       "      <th>2</th>\n",
       "      <td>10101010109</td>\n",
       "      <td>1</td>\n",
       "      <td>Rural Area</td>\n",
       "      <td>No</td>\n",
       "      <td>Employment</td>\n",
       "    </tr>\n",
       "    <tr>\n",
       "      <th>3</th>\n",
       "      <td>10101010109</td>\n",
       "      <td>2</td>\n",
       "      <td>Rural Area</td>\n",
       "      <td>No</td>\n",
       "      <td>Employment</td>\n",
       "    </tr>\n",
       "    <tr>\n",
       "      <th>4</th>\n",
       "      <td>10101010109</td>\n",
       "      <td>3</td>\n",
       "      <td>Rural Area</td>\n",
       "      <td>No</td>\n",
       "      <td>To Follow Family Member</td>\n",
       "    </tr>\n",
       "  </tbody>\n",
       "</table>\n",
       "</div>"
      ],
      "text/plain": [
       "          hid  r_pid               migrate_to is_diff_district  \\\n",
       "0 10101010105      1         Rural Area               No         \n",
       "1 10101010105      2         Rural Area               No         \n",
       "2 10101010109      1         Rural Area               No         \n",
       "3 10101010109      2         Rural Area               No         \n",
       "4 10101010109      3         Rural Area               No         \n",
       "\n",
       "                  migration_reason  \n",
       "0                 Employment        \n",
       "1                 Employment        \n",
       "2                 Employment        \n",
       "3                 Employment        \n",
       "4         To Follow Family Member   "
      ]
     },
     "execution_count": 51,
     "metadata": {},
     "output_type": "execute_result"
    }
   ],
   "source": [
    "migration_male.head()"
   ]
  },
  {
   "cell_type": "code",
   "execution_count": null,
   "metadata": {},
   "outputs": [],
   "source": [
    "columns_to_read = ['hid', 'r_pid', 'rq2', 'rq4', 'rq3_age_year', 'rq15', 'rq17', 'rq20']\n",
    "new_column_names = {\n",
    "    'rq2': 'gender',\n",
    "    'rq4': 'relation_to_head',\n",
    "    'rq3_age_year': 'age_year',\n",
    "    'rq15': 'marital_status',\n",
    "    'rq17': 'spouse_pid',\n",
    "    'rq20': 'employment'\n",
    "}\n",
    "\n",
    "roster_male = pd.read_stata(f('061_roster.dta'), columns=columns_to_read)\n",
    "roster_male = roster_male.rename(columns=new_column_names)\n"
   ]
  },
  {
   "cell_type": "code",
   "execution_count": 46,
   "metadata": {},
   "outputs": [
    {
     "data": {
      "text/html": [
       "<div>\n",
       "<style scoped>\n",
       "    .dataframe tbody tr th:only-of-type {\n",
       "        vertical-align: middle;\n",
       "    }\n",
       "\n",
       "    .dataframe tbody tr th {\n",
       "        vertical-align: top;\n",
       "    }\n",
       "\n",
       "    .dataframe thead th {\n",
       "        text-align: right;\n",
       "    }\n",
       "</style>\n",
       "<table border=\"1\" class=\"dataframe\">\n",
       "  <thead>\n",
       "    <tr style=\"text-align: right;\">\n",
       "      <th></th>\n",
       "      <th>hid</th>\n",
       "      <th>r_pid</th>\n",
       "      <th>gender</th>\n",
       "      <th>relation_to_head</th>\n",
       "      <th>age_year</th>\n",
       "      <th>marital_status</th>\n",
       "      <th>spouse_pid</th>\n",
       "      <th>employment</th>\n",
       "    </tr>\n",
       "  </thead>\n",
       "  <tbody>\n",
       "    <tr>\n",
       "      <th>0</th>\n",
       "      <td>10101010102</td>\n",
       "      <td>1</td>\n",
       "      <td>Male</td>\n",
       "      <td>No Difference</td>\n",
       "      <td>42</td>\n",
       "      <td>Currently Married</td>\n",
       "      <td>2</td>\n",
       "      <td>Employed</td>\n",
       "    </tr>\n",
       "    <tr>\n",
       "      <th>1</th>\n",
       "      <td>10101010102</td>\n",
       "      <td>2</td>\n",
       "      <td>Female</td>\n",
       "      <td>No Difference</td>\n",
       "      <td>38</td>\n",
       "      <td>Currently Married</td>\n",
       "      <td>1</td>\n",
       "      <td>Employed</td>\n",
       "    </tr>\n",
       "    <tr>\n",
       "      <th>2</th>\n",
       "      <td>10101010102</td>\n",
       "      <td>3</td>\n",
       "      <td>Female</td>\n",
       "      <td>No Difference</td>\n",
       "      <td>16</td>\n",
       "      <td>NaN</td>\n",
       "      <td>NaN</td>\n",
       "      <td>NaN</td>\n",
       "    </tr>\n",
       "    <tr>\n",
       "      <th>3</th>\n",
       "      <td>10101010102</td>\n",
       "      <td>4</td>\n",
       "      <td>Female</td>\n",
       "      <td>No Difference</td>\n",
       "      <td>13</td>\n",
       "      <td>Never Married</td>\n",
       "      <td>NaN</td>\n",
       "      <td>Not Working For Wages But Involve In Housework</td>\n",
       "    </tr>\n",
       "    <tr>\n",
       "      <th>4</th>\n",
       "      <td>10101010102</td>\n",
       "      <td>5</td>\n",
       "      <td>Female</td>\n",
       "      <td>No Difference</td>\n",
       "      <td>10</td>\n",
       "      <td>Never Married</td>\n",
       "      <td>NaN</td>\n",
       "      <td>Student</td>\n",
       "    </tr>\n",
       "  </tbody>\n",
       "</table>\n",
       "</div>"
      ],
      "text/plain": [
       "          hid  r_pid  gender relation_to_head age_year     marital_status  \\\n",
       "0 10101010102      1    Male    No Difference       42  Currently Married   \n",
       "1 10101010102      2  Female    No Difference       38  Currently Married   \n",
       "2 10101010102      3  Female    No Difference       16                NaN   \n",
       "3 10101010102      4  Female    No Difference       13      Never Married   \n",
       "4 10101010102      5  Female    No Difference       10      Never Married   \n",
       "\n",
       "   spouse_pid                                      employment  \n",
       "0           2                                        Employed  \n",
       "1           1                                        Employed  \n",
       "2         NaN                                             NaN  \n",
       "3         NaN  Not Working For Wages But Involve In Housework  \n",
       "4         NaN                                         Student  "
      ]
     },
     "execution_count": 46,
     "metadata": {},
     "output_type": "execute_result"
    }
   ],
   "source": [
    "roster_male.head()"
   ]
  },
  {
   "cell_type": "code",
   "execution_count": 48,
   "metadata": {},
   "outputs": [
    {
     "data": {
      "text/plain": [
       "employment\n",
       "Not Applicable (Age less than 10 years)           3282\n",
       "Employed                                          3426\n",
       "Looking For Work                                   107\n",
       "Not Working For Wages But Involve In Housework    3621\n",
       "Unemployed (Not Working,Not Looking For Work)      427\n",
       "Student                                           1450\n",
       "Retired/Recevied Pension                            29\n",
       "dtype: int64"
      ]
     },
     "execution_count": 48,
     "metadata": {},
     "output_type": "execute_result"
    }
   ],
   "source": [
    "roster_male.groupby('employment', observed=False).size()"
   ]
  },
  {
   "cell_type": "code",
   "execution_count": 115,
   "metadata": {},
   "outputs": [],
   "source": [
    "male_savings = pd.read_stata(f('083_s3p5_m.dta'), columns=['hid', 's3p5_q5']).rename(columns={'s3p5_q5': 'male_savings'})"
   ]
  },
  {
   "cell_type": "code",
   "execution_count": 116,
   "metadata": {},
   "outputs": [],
   "source": [
    "female_savings = pd.read_stata(f('026_s3p2_f.dta'), columns=['hid', 's3p2_q5']).rename(columns={'s3p2_q5': 'female_savings'})"
   ]
  },
  {
   "cell_type": "code",
   "execution_count": 117,
   "metadata": {},
   "outputs": [],
   "source": [
    "columns_to_read = ['hid','r_pid', 's2p3a_q1', 's2p3a_q18']\n",
    "new_column_names = {\n",
    "    's2p3a_q1': 'female_job_status',\n",
    "    's2p3a_q18': 'female_annual_income',\n",
    "}\n",
    "\n",
    "female_income = pd.read_stata(f('018_s2p3a_f.dta'), columns=columns_to_read).rename(columns=new_column_names)"
   ]
  },
  {
   "cell_type": "code",
   "execution_count": 118,
   "metadata": {},
   "outputs": [],
   "source": [
    "male_income = pd.read_stata(f('094_s6p3b_m.dta'), columns=['hid', 's6p3b_q4']).rename(columns={'s6p3b_q4': 'male_profit'})"
   ]
  },
  {
   "cell_type": "code",
   "execution_count": 119,
   "metadata": {},
   "outputs": [],
   "source": [
    "male_income_agri = pd.read_stata(f('092_s6p2_m.dta'), columns=['hid', 'r_pid', 's6p2_q13']).rename(columns={'s6p2_q13': 'male_farm_income'})"
   ]
  },
  {
   "cell_type": "code",
   "execution_count": 260,
   "metadata": {},
   "outputs": [],
   "source": [
    "df = pd.merge(migration_male, roster_male, on= ['hid', 'r_pid'], how='inner')"
   ]
  },
  {
   "cell_type": "code",
   "execution_count": 261,
   "metadata": {},
   "outputs": [],
   "source": [
    "df = df.merge(female_savings, on='hid', how='left').merge(male_savings, on='hid', how='left')"
   ]
  },
  {
   "cell_type": "code",
   "execution_count": 262,
   "metadata": {},
   "outputs": [],
   "source": [
    "df = df.merge(female_income, on=['hid', 'r_pid'], how='left').merge(male_income, on=['hid'], how='left').merge(male_income_agri, on=['hid', 'r_pid'], how='left')"
   ]
  },
  {
   "cell_type": "code",
   "execution_count": 263,
   "metadata": {},
   "outputs": [
    {
     "data": {
      "text/plain": [
       "513"
      ]
     },
     "execution_count": 263,
     "metadata": {},
     "output_type": "execute_result"
    }
   ],
   "source": [
    "df[['female_savings', 'male_savings', 'female_annual_income', 'male_profit', 'male_farm_income']] = \\\n",
    "df[['female_savings', 'male_savings', 'female_annual_income', 'male_profit', 'male_farm_income']].fillna(0)\n",
    "\n",
    "df['age_year'] = pd.to_numeric(df['age_year'], errors='coerce')\n",
    "df = df[df['age_year'] >= 15]\n",
    "\n",
    "df['spouse_pid'] = df['spouse_pid'].fillna(-1)\n",
    "df['female_job_status'] = df['female_job_status'].cat.add_categories('Unemployed')\n",
    "df['female_job_status'] = df['female_job_status'].fillna('Unemployed')\n",
    "\n",
    "\n",
    "len(df)"
   ]
  },
  {
   "cell_type": "code",
   "execution_count": 264,
   "metadata": {},
   "outputs": [],
   "source": [
    "df = df.dropna(subset=['gender', 'r_pid', 'hid'])\n",
    "categorical_columns = df.select_dtypes(include='category').columns\n",
    "for col in categorical_columns:\n",
    "    df[col] = df[col].cat.add_categories('unknown')"
   ]
  },
  {
   "cell_type": "code",
   "execution_count": 265,
   "metadata": {},
   "outputs": [],
   "source": [
    "df.dropna(inplace=True)"
   ]
  },
  {
   "cell_type": "code",
   "execution_count": 267,
   "metadata": {},
   "outputs": [
    {
     "data": {
      "text/html": [
       "<div>\n",
       "<style scoped>\n",
       "    .dataframe tbody tr th:only-of-type {\n",
       "        vertical-align: middle;\n",
       "    }\n",
       "\n",
       "    .dataframe tbody tr th {\n",
       "        vertical-align: top;\n",
       "    }\n",
       "\n",
       "    .dataframe thead th {\n",
       "        text-align: right;\n",
       "    }\n",
       "</style>\n",
       "<table border=\"1\" class=\"dataframe\">\n",
       "  <thead>\n",
       "    <tr style=\"text-align: right;\">\n",
       "      <th></th>\n",
       "      <th>hid</th>\n",
       "      <th>r_pid</th>\n",
       "      <th>migrate_to</th>\n",
       "      <th>is_diff_district</th>\n",
       "      <th>migration_reason</th>\n",
       "      <th>gender</th>\n",
       "      <th>relation_to_head</th>\n",
       "      <th>age_year</th>\n",
       "      <th>marital_status</th>\n",
       "      <th>spouse_pid</th>\n",
       "      <th>employment</th>\n",
       "      <th>female_savings</th>\n",
       "      <th>male_savings</th>\n",
       "      <th>female_job_status</th>\n",
       "      <th>female_annual_income</th>\n",
       "      <th>male_profit</th>\n",
       "      <th>male_farm_income</th>\n",
       "    </tr>\n",
       "  </thead>\n",
       "  <tbody>\n",
       "    <tr>\n",
       "      <th>0</th>\n",
       "      <td>10101010105</td>\n",
       "      <td>1</td>\n",
       "      <td>Rural Area</td>\n",
       "      <td>No</td>\n",
       "      <td>Employment</td>\n",
       "      <td>Male</td>\n",
       "      <td>No Difference</td>\n",
       "      <td>39</td>\n",
       "      <td>Currently Married</td>\n",
       "      <td>2</td>\n",
       "      <td>Employed</td>\n",
       "      <td>0</td>\n",
       "      <td>0</td>\n",
       "      <td>Unemployed</td>\n",
       "      <td>0</td>\n",
       "      <td>0</td>\n",
       "      <td>0</td>\n",
       "    </tr>\n",
       "    <tr>\n",
       "      <th>1</th>\n",
       "      <td>10101010105</td>\n",
       "      <td>2</td>\n",
       "      <td>Rural Area</td>\n",
       "      <td>No</td>\n",
       "      <td>Employment</td>\n",
       "      <td>Female</td>\n",
       "      <td>No Difference</td>\n",
       "      <td>35</td>\n",
       "      <td>Currently Married</td>\n",
       "      <td>1</td>\n",
       "      <td>Employed</td>\n",
       "      <td>0</td>\n",
       "      <td>0</td>\n",
       "      <td>Temporary Employee</td>\n",
       "      <td>0</td>\n",
       "      <td>0</td>\n",
       "      <td>0</td>\n",
       "    </tr>\n",
       "    <tr>\n",
       "      <th>2</th>\n",
       "      <td>10101010109</td>\n",
       "      <td>1</td>\n",
       "      <td>Rural Area</td>\n",
       "      <td>No</td>\n",
       "      <td>Employment</td>\n",
       "      <td>Male</td>\n",
       "      <td>No Difference</td>\n",
       "      <td>34</td>\n",
       "      <td>Currently Married</td>\n",
       "      <td>2</td>\n",
       "      <td>Employed</td>\n",
       "      <td>0</td>\n",
       "      <td>0</td>\n",
       "      <td>Unemployed</td>\n",
       "      <td>0</td>\n",
       "      <td>0</td>\n",
       "      <td>0</td>\n",
       "    </tr>\n",
       "    <tr>\n",
       "      <th>3</th>\n",
       "      <td>10101010109</td>\n",
       "      <td>2</td>\n",
       "      <td>Rural Area</td>\n",
       "      <td>No</td>\n",
       "      <td>Employment</td>\n",
       "      <td>Female</td>\n",
       "      <td>No Difference</td>\n",
       "      <td>32</td>\n",
       "      <td>Currently Married</td>\n",
       "      <td>1</td>\n",
       "      <td>Employed</td>\n",
       "      <td>0</td>\n",
       "      <td>0</td>\n",
       "      <td>Temporary Employee</td>\n",
       "      <td>0</td>\n",
       "      <td>0</td>\n",
       "      <td>0</td>\n",
       "    </tr>\n",
       "    <tr>\n",
       "      <th>7</th>\n",
       "      <td>10101010121</td>\n",
       "      <td>3</td>\n",
       "      <td>Urban Area</td>\n",
       "      <td>Yes</td>\n",
       "      <td>Employment</td>\n",
       "      <td>Male</td>\n",
       "      <td>No Difference</td>\n",
       "      <td>16</td>\n",
       "      <td>Never Married</td>\n",
       "      <td>-1</td>\n",
       "      <td>Employed</td>\n",
       "      <td>0</td>\n",
       "      <td>12000</td>\n",
       "      <td>Unemployed</td>\n",
       "      <td>0</td>\n",
       "      <td>0</td>\n",
       "      <td>0</td>\n",
       "    </tr>\n",
       "  </tbody>\n",
       "</table>\n",
       "</div>"
      ],
      "text/plain": [
       "          hid  r_pid               migrate_to is_diff_district  \\\n",
       "0 10101010105      1         Rural Area               No         \n",
       "1 10101010105      2         Rural Area               No         \n",
       "2 10101010109      1         Rural Area               No         \n",
       "3 10101010109      2         Rural Area               No         \n",
       "7 10101010121      3         Urban Area               Yes        \n",
       "\n",
       "          migration_reason  gender relation_to_head  age_year  \\\n",
       "0         Employment          Male    No Difference        39   \n",
       "1         Employment        Female    No Difference        35   \n",
       "2         Employment          Male    No Difference        34   \n",
       "3         Employment        Female    No Difference        32   \n",
       "7         Employment          Male    No Difference        16   \n",
       "\n",
       "      marital_status  spouse_pid employment  female_savings  male_savings  \\\n",
       "0  Currently Married           2   Employed               0             0   \n",
       "1  Currently Married           1   Employed               0             0   \n",
       "2  Currently Married           2   Employed               0             0   \n",
       "3  Currently Married           1   Employed               0             0   \n",
       "7      Never Married          -1   Employed               0         12000   \n",
       "\n",
       "      female_job_status  female_annual_income  male_profit  male_farm_income  \n",
       "0            Unemployed                     0            0                 0  \n",
       "1   Temporary Employee                      0            0                 0  \n",
       "2            Unemployed                     0            0                 0  \n",
       "3   Temporary Employee                      0            0                 0  \n",
       "7            Unemployed                     0            0                 0  "
      ]
     },
     "execution_count": 267,
     "metadata": {},
     "output_type": "execute_result"
    }
   ],
   "source": [
    "df.head()"
   ]
  },
  {
   "cell_type": "code",
   "execution_count": 268,
   "metadata": {},
   "outputs": [],
   "source": [
    "df.to_csv('combined_dataset_2014.csv', index=False)"
   ]
  },
  {
   "cell_type": "code",
   "execution_count": 301,
   "metadata": {},
   "outputs": [
    {
     "data": {
      "image/png": "[encoded data removed]",
      "text/plain": [
       "<Figure size 864x576 with 1 Axes>"
      ]
     },
     "metadata": {
      "needs_background": "light"
     },
     "output_type": "display_data"
    }
   ],
   "source": [
    "import pandas as pd\n",
    "import matplotlib.pyplot as plt\n",
    "import seaborn as sns\n",
    "\n",
    "df_copy = df.copy()\n",
    "df_copy['total_income'] = (\n",
    "    df_copy['female_annual_income'] + \n",
    "    df_copy['male_profit'] + \n",
    "    df_copy['male_farm_income']\n",
    ")\n",
    "\n",
    "df_copy['migration_reason'] = df_copy['migration_reason'].astype(str).str.strip()\n",
    "df_copy['migration_reason_grouped'] = df_copy['migration_reason'].replace({\n",
    "    'Employment': 'Economic',\n",
    "    'Education': 'Economic',\n",
    "    'Marriage': 'Family',\n",
    "    'To Follow Family Member': 'Family',\n",
    "    'Natural Disaster': 'Other',\n",
    "    'For Medical Assistance/ Treatment': 'Other',\n",
    "    'unknown': 'Other'\n",
    "})\n",
    "\n",
    "df_copy['migrate_to'] = df_copy['migrate_to'].astype(str).str.strip()\n",
    "df_copy['migrate_status'] = df_copy['migrate_to'].replace({\n",
    "    'Rural': 'Migrated',\n",
    "    'Urban': 'Migrated',\n",
    "    'unknown': 'Non-Migrated'\n",
    "})\n",
    "\n",
    "plt.figure(figsize=(12, 8))\n",
    "sns.violinplot(data=df_copy, x='migration_reason_grouped', y='total_income', hue='migrate_status', split=True, inner=\"quartile\", bw_adjust=1.5)\n",
    "plt.title('Total Income by Migration Reason and Migration Status')\n",
    "plt.xlabel('Migration Reason')\n",
    "plt.ylabel('Total Income')\n",
    "plt.legend(title='Migration Status')\n",
    "plt.ticklabel_format(style='plain', axis='y')\n",
    "plt.ylim(0, None)\n",
    "plt.show()\n"
   ]
  },
  {
   "cell_type": "code",
   "execution_count": 320,
   "metadata": {},
   "outputs": [
    {
     "data": {
      "image/png": "[encoded data removed]",
      "text/plain": [
       "<Figure size 720x432 with 1 Axes>"
      ]
     },
     "metadata": {
      "needs_background": "light"
     },
     "output_type": "display_data"
    }
   ],
   "source": [
    "import pandas as pd\n",
    "import matplotlib.pyplot as plt\n",
    "import seaborn as sns\n",
    "\n",
    "df_copy = df.copy()\n",
    "\n",
    "df_copy['female_total_income'] = df_copy['female_savings'] + df_copy['female_annual_income']\n",
    "df_copy['male_total_income'] = df_copy['male_savings'] + df_copy['male_profit'] + df_copy['male_farm_income']\n",
    "df_copy['total_household_income'] = df_copy['female_total_income'] + df_copy['male_total_income']\n",
    "\n",
    "df_copy['female_income_percentage'] = (df_copy['female_total_income'] / df_copy['total_household_income']) * 100\n",
    "df_copy['male_income_percentage'] = (df_copy['male_total_income'] / df_copy['total_household_income']) * 100\n",
    "\n",
    "income_percentage_df = pd.melt(\n",
    "    df_copy[['female_income_percentage', 'male_income_percentage']],\n",
    "    var_name='Gender',\n",
    "    value_name='Income Percentage'\n",
    ")\n",
    "income_percentage_df['Gender'] = income_percentage_df['Gender'].replace({\n",
    "    'female_income_percentage': 'Female Income %',\n",
    "    'male_income_percentage': 'Male Income %'\n",
    "})\n",
    "\n",
    "plt.figure(figsize=(10, 6))\n",
    "sns.violinplot(data=income_percentage_df, x='Gender', y='Income Percentage', inner='quartile')\n",
    "plt.title('Income Percentage Distribution by Gender')\n",
    "plt.ylabel('Income as Percentage of Total Household Income')\n",
    "plt.xlabel('Gender')\n",
    "plt.ylim(0, 100)  \n",
    "plt.show()\n"
   ]
  }
 ],
 "metadata": {
  "kernelspec": {
   "display_name": "Python 3",
   "language": "python",
   "name": "python3"
  },
  "language_info": {
   "codemirror_mode": {
    "name": "ipython",
    "version": 3
   },
   "file_extension": ".py",
   "mimetype": "text/x-python",
   "name": "python",
   "nbconvert_exporter": "python",
   "pygments_lexer": "ipython3",
   "version": "3.12.1"
  }
 },
 "nbformat": 4,
 "nbformat_minor": 2
}
